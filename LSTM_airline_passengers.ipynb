{
  "nbformat": 4,
  "nbformat_minor": 0,
  "metadata": {
    "colab": {
      "name": "LSTM_airline passengers.ipynb",
      "version": "0.3.2",
      "provenance": [],
      "include_colab_link": true
    },
    "kernelspec": {
      "name": "python3",
      "display_name": "Python 3"
    },
    "accelerator": "GPU"
  },
  "cells": [
    {
      "cell_type": "markdown",
      "metadata": {
        "id": "view-in-github",
        "colab_type": "text"
      },
      "source": [
        "<a href=\"https://colab.research.google.com/github/komosam/LSTM-for-Predictions/blob/master/LSTM_airline_passengers.ipynb\" target=\"_parent\"><img src=\"https://colab.research.google.com/assets/colab-badge.svg\" alt=\"Open In Colab\"/></a>"
      ]
    },
    {
      "cell_type": "code",
      "metadata": {
        "id": "GqZvVaZAzeJb",
        "colab_type": "code",
        "colab": {}
      },
      "source": [
        "import torch\n",
        "import torch.nn as nn\n",
        "import numpy as np\n",
        "import pandas as pd\n",
        "import time\n",
        "import matplotlib.pyplot as plt\n",
        "%matplotlib inline\n",
        "\n",
        "from pandas.plotting import register_matplotlib_converters\n",
        "register_matplotlib_converters()"
      ],
      "execution_count": 0,
      "outputs": []
    },
    {
      "cell_type": "code",
      "metadata": {
        "id": "jIJ6nqyK0EZ7",
        "colab_type": "code",
        "colab": {}
      },
      "source": [
        "device = torch.device(\"cuda:0\" if torch.cuda.is_available() else 'cpu')"
      ],
      "execution_count": 0,
      "outputs": []
    },
    {
      "cell_type": "code",
      "metadata": {
        "id": "10ZBZioe1VPY",
        "colab_type": "code",
        "outputId": "91e75bbb-078f-4b4e-d5d3-4649bcafb2ca",
        "colab": {
          "base_uri": "https://localhost:8080/",
          "height": 235
        }
      },
      "source": [
        "train_data = pd.read_csv('AirPassengers.csv',index_col=0,parse_dates=True)\n",
        "train_data.head()"
      ],
      "execution_count": 3,
      "outputs": [
        {
          "output_type": "execute_result",
          "data": {
            "text/html": [
              "<div>\n",
              "<style scoped>\n",
              "    .dataframe tbody tr th:only-of-type {\n",
              "        vertical-align: middle;\n",
              "    }\n",
              "\n",
              "    .dataframe tbody tr th {\n",
              "        vertical-align: top;\n",
              "    }\n",
              "\n",
              "    .dataframe thead th {\n",
              "        text-align: right;\n",
              "    }\n",
              "</style>\n",
              "<table border=\"1\" class=\"dataframe\">\n",
              "  <thead>\n",
              "    <tr style=\"text-align: right;\">\n",
              "      <th></th>\n",
              "      <th>#Passengers</th>\n",
              "    </tr>\n",
              "    <tr>\n",
              "      <th>Month</th>\n",
              "      <th></th>\n",
              "    </tr>\n",
              "  </thead>\n",
              "  <tbody>\n",
              "    <tr>\n",
              "      <th>1949-01-01</th>\n",
              "      <td>112</td>\n",
              "    </tr>\n",
              "    <tr>\n",
              "      <th>1949-02-01</th>\n",
              "      <td>118</td>\n",
              "    </tr>\n",
              "    <tr>\n",
              "      <th>1949-03-01</th>\n",
              "      <td>132</td>\n",
              "    </tr>\n",
              "    <tr>\n",
              "      <th>1949-04-01</th>\n",
              "      <td>129</td>\n",
              "    </tr>\n",
              "    <tr>\n",
              "      <th>1949-05-01</th>\n",
              "      <td>121</td>\n",
              "    </tr>\n",
              "  </tbody>\n",
              "</table>\n",
              "</div>"
            ],
            "text/plain": [
              "            #Passengers\n",
              "Month                  \n",
              "1949-01-01          112\n",
              "1949-02-01          118\n",
              "1949-03-01          132\n",
              "1949-04-01          129\n",
              "1949-05-01          121"
            ]
          },
          "metadata": {
            "tags": []
          },
          "execution_count": 3
        }
      ]
    },
    {
      "cell_type": "code",
      "metadata": {
        "id": "H8ITnIrz1gL7",
        "colab_type": "code",
        "colab": {}
      },
      "source": [
        "### Data Visualization"
      ],
      "execution_count": 0,
      "outputs": []
    },
    {
      "cell_type": "code",
      "metadata": {
        "id": "QUt0ZWJf12Ol",
        "colab_type": "code",
        "colab": {}
      },
      "source": [
        "train_data_col = train_data['#Passengers']"
      ],
      "execution_count": 0,
      "outputs": []
    },
    {
      "cell_type": "code",
      "metadata": {
        "id": "vOYLu2Xf1vKg",
        "colab_type": "code",
        "outputId": "b615b054-2df8-4a5d-e6d1-adc1037006a3",
        "colab": {
          "base_uri": "https://localhost:8080/",
          "height": 312
        }
      },
      "source": [
        "plt.figure(figsize=(12,4))\n",
        "plt.title('Yearly passenger numbers')\n",
        "plt.xlabel('Passenger Number/Monthly')\n",
        "plt.ylabel('Years')\n",
        "plt.grid(True)\n",
        "plt.autoscale(axis='x',tight=True)\n",
        "plt.plot(train_data_col)\n"
      ],
      "execution_count": 6,
      "outputs": [
        {
          "output_type": "execute_result",
          "data": {
            "text/plain": [
              "[<matplotlib.lines.Line2D at 0x7ff8e6bea240>]"
            ]
          },
          "metadata": {
            "tags": []
          },
          "execution_count": 6
        },
        {
          "output_type": "display_data",
          "data": {
            "image/png": "[encoded data removed]",
            "text/plain": [
              "<Figure size 864x288 with 1 Axes>"
            ]
          },
          "metadata": {
            "tags": []
          }
        }
      ]
    },
    {
      "cell_type": "code",
      "metadata": {
        "id": "6gEbJvWg2wIi",
        "colab_type": "code",
        "colab": {}
      },
      "source": [
        "### Preprocessing"
      ],
      "execution_count": 0,
      "outputs": []
    },
    {
      "cell_type": "code",
      "metadata": {
        "id": "yVAFZARg3ZPH",
        "colab_type": "code",
        "colab": {}
      },
      "source": [
        "## Train Test Split\n",
        "\n",
        "test_size = 15\n",
        "train_set = train_data_col[:-test_size]\n",
        "test_set = train_data_col[-test_size:]"
      ],
      "execution_count": 0,
      "outputs": []
    },
    {
      "cell_type": "code",
      "metadata": {
        "id": "k3mMtCR83yib",
        "colab_type": "code",
        "outputId": "d510a9e0-4681-440f-cda7-72eaa4d743d4",
        "colab": {
          "base_uri": "https://localhost:8080/",
          "height": 34
        }
      },
      "source": [
        "len(train_set),len(test_set)"
      ],
      "execution_count": 9,
      "outputs": [
        {
          "output_type": "execute_result",
          "data": {
            "text/plain": [
              "(129, 15)"
            ]
          },
          "metadata": {
            "tags": []
          },
          "execution_count": 9
        }
      ]
    },
    {
      "cell_type": "code",
      "metadata": {
        "id": "8FZJR2XQ4LZH",
        "colab_type": "code",
        "colab": {}
      },
      "source": [
        "## Scaling\n",
        "from sklearn.preprocessing import MinMaxScaler\n",
        "sc = MinMaxScaler(feature_range=(-1,1))"
      ],
      "execution_count": 0,
      "outputs": []
    },
    {
      "cell_type": "code",
      "metadata": {
        "id": "zS32iweI4gyo",
        "colab_type": "code",
        "colab": {}
      },
      "source": [
        "train_set_array = np.array(train_set)\n",
        "train_norm = sc.fit_transform(train_set_array.reshape(-1,1))\n",
        "\n",
        "\n",
        "train_norm = torch.FloatTensor(train_norm).view(-1).to(device)"
      ],
      "execution_count": 0,
      "outputs": []
    },
    {
      "cell_type": "code",
      "metadata": {
        "id": "WaeML1IN32cP",
        "colab_type": "code",
        "colab": {}
      },
      "source": [
        "### Shape to get the LSTM Input\n",
        "\n",
        "def inputs_data(seq,window_size):\n",
        "  L = len(seq)\n",
        "  out = []\n",
        "  \n",
        "  for i in range(window_size,L):\n",
        "    window = seq[i-window_size:i]\n",
        "    label  = seq[i]\n",
        "    out.append((window,label))\n",
        "    \n",
        "  return out"
      ],
      "execution_count": 0,
      "outputs": []
    },
    {
      "cell_type": "code",
      "metadata": {
        "id": "2hvG-2QP4fzK",
        "colab_type": "code",
        "colab": {}
      },
      "source": [
        "window_size= 12\n",
        "\n",
        "training_data = inputs_data(train_norm,window_size)"
      ],
      "execution_count": 0,
      "outputs": []
    },
    {
      "cell_type": "code",
      "metadata": {
        "id": "iXvkJPws4KZf",
        "colab_type": "code",
        "outputId": "6932dfeb-8708-48a5-9a05-0547ce5e2974",
        "colab": {
          "base_uri": "https://localhost:8080/",
          "height": 68
        }
      },
      "source": [
        "training_data[0]"
      ],
      "execution_count": 14,
      "outputs": [
        {
          "output_type": "execute_result",
          "data": {
            "text/plain": [
              "(tensor([-0.9648, -0.9385, -0.8769, -0.8901, -0.9253, -0.8637, -0.8066, -0.8066,\n",
              "         -0.8593, -0.9341, -1.0000, -0.9385], device='cuda:0'),\n",
              " tensor(-0.9516, device='cuda:0'))"
            ]
          },
          "metadata": {
            "tags": []
          },
          "execution_count": 14
        }
      ]
    },
    {
      "cell_type": "code",
      "metadata": {
        "id": "7RrBdZqGeWp-",
        "colab_type": "code",
        "outputId": "9c000377-90d1-43ac-ca4e-1920e3fb4db5",
        "colab": {
          "base_uri": "https://localhost:8080/",
          "height": 68
        }
      },
      "source": [
        "training_data[1]"
      ],
      "execution_count": 15,
      "outputs": [
        {
          "output_type": "execute_result",
          "data": {
            "text/plain": [
              "(tensor([-0.9385, -0.8769, -0.8901, -0.9253, -0.8637, -0.8066, -0.8066, -0.8593,\n",
              "         -0.9341, -1.0000, -0.9385, -0.9516], device='cuda:0'),\n",
              " tensor(-0.9033, device='cuda:0'))"
            ]
          },
          "metadata": {
            "tags": []
          },
          "execution_count": 15
        }
      ]
    },
    {
      "cell_type": "code",
      "metadata": {
        "id": "EzGT9eVB7Y2-",
        "colab_type": "code",
        "colab": {}
      },
      "source": [
        "### Modeling"
      ],
      "execution_count": 0,
      "outputs": []
    },
    {
      "cell_type": "code",
      "metadata": {
        "id": "g37R0sGS7sBK",
        "colab_type": "code",
        "colab": {}
      },
      "source": [
        "class LSTM(nn.Module):\n",
        "  def __init__(self,input_size=1,hidden_size=90,output_size=1):\n",
        "    super().__init__()\n",
        "    self.hidden_size = hidden_size\n",
        "    self.lstm = nn.LSTM(input_size,hidden_size)\n",
        "    self.linear = nn.Linear(hidden_size,output_size)\n",
        "    self.hidden = (torch.zeros(1,1,self.hidden_size),torch.zeros(1,1,self.hidden_size))\n",
        "  \n",
        "  def forward(self,seq):\n",
        "    lstm_out, self.hidden = self.lstm(seq.view(len(seq),1,-1),self.hidden)\n",
        "    pred = self.linear(lstm_out.view(len(seq),-1))\n",
        "    return pred[-1]\n",
        "  "
      ],
      "execution_count": 0,
      "outputs": []
    },
    {
      "cell_type": "code",
      "metadata": {
        "id": "Qb8MsAhm92lN",
        "colab_type": "code",
        "outputId": "2fe32063-1557-488e-f87e-24bc1af26f34",
        "colab": {
          "base_uri": "https://localhost:8080/",
          "height": 85
        }
      },
      "source": [
        "torch.manual_seed(101)\n",
        "model = LSTM().to(device)\n",
        "optimizer = torch.optim.Adam(model.parameters(), lr=0.0001)\n",
        "criterion = nn.MSELoss()\n",
        "model"
      ],
      "execution_count": 18,
      "outputs": [
        {
          "output_type": "execute_result",
          "data": {
            "text/plain": [
              "LSTM(\n",
              "  (lstm): LSTM(1, 90)\n",
              "  (linear): Linear(in_features=90, out_features=1, bias=True)\n",
              ")"
            ]
          },
          "metadata": {
            "tags": []
          },
          "execution_count": 18
        }
      ]
    },
    {
      "cell_type": "code",
      "metadata": {
        "id": "fLck3H0e-P-W",
        "colab_type": "code",
        "outputId": "1da9f6b5-fe8d-46a0-8376-60bbd6dd8482",
        "colab": {
          "base_uri": "https://localhost:8080/",
          "height": 1000
        }
      },
      "source": [
        "## Training \n",
        "\n",
        "epochs = 100\n",
        "\n",
        "start_time = time.time()\n",
        "acc_loss = []\n",
        "\n",
        "for epoch in range(epochs):\n",
        "  for seq, y_train in training_data:\n",
        "    optimizer.zero_grad()\n",
        "    model.hidden = (torch.zeros(1,1,model.hidden_size).to(device),\n",
        "                   torch.zeros(1,1,model.hidden_size).to(device))\n",
        "    y_pred = model(seq)\n",
        "    \n",
        "    loss = criterion(y_pred,y_train)\n",
        "    loss.backward()\n",
        "    optimizer.step()\n",
        "    \n",
        "  acc_loss.append(loss.item())\n",
        "  print(f\"Epoch {epoch} Loss {loss.item()}\")\n",
        "  \n",
        "print(f'\\nDuration: {time.time() - start_time:.0f} seconds')"
      ],
      "execution_count": 19,
      "outputs": [
        {
          "output_type": "stream",
          "text": [
            "/usr/local/lib/python3.6/dist-packages/torch/nn/modules/loss.py:443: UserWarning: Using a target size (torch.Size([])) that is different to the input size (torch.Size([1])). This will likely lead to incorrect results due to broadcasting. Please ensure they have the same size.\n",
            "  return F.mse_loss(input, target, reduction=self.reduction)\n"
          ],
          "name": "stderr"
        },
        {
          "output_type": "stream",
          "text": [
            "Epoch 0 Loss 0.32330065965652466\n",
            "Epoch 1 Loss 0.3433464467525482\n",
            "Epoch 2 Loss 0.29302793741226196\n",
            "Epoch 3 Loss 0.22460812330245972\n",
            "Epoch 4 Loss 0.15778601169586182\n",
            "Epoch 5 Loss 0.10278163105249405\n",
            "Epoch 6 Loss 0.06769636273384094\n",
            "Epoch 7 Loss 0.05164541304111481\n",
            "Epoch 8 Loss 0.04441177472472191\n",
            "Epoch 9 Loss 0.03978915512561798\n",
            "Epoch 10 Loss 0.0364176444709301\n",
            "Epoch 11 Loss 0.03390773758292198\n",
            "Epoch 12 Loss 0.0320681668817997\n",
            "Epoch 13 Loss 0.030739692971110344\n",
            "Epoch 14 Loss 0.029787180945277214\n",
            "Epoch 15 Loss 0.02910553850233555\n",
            "Epoch 16 Loss 0.02861783094704151\n",
            "Epoch 17 Loss 0.02826925367116928\n",
            "Epoch 18 Loss 0.028021004050970078\n",
            "Epoch 19 Loss 0.02784586511552334\n",
            "Epoch 20 Loss 0.027724603191018105\n",
            "Epoch 21 Loss 0.02764364704489708\n",
            "Epoch 22 Loss 0.027593474835157394\n",
            "Epoch 23 Loss 0.027567392215132713\n",
            "Epoch 24 Loss 0.02756069228053093\n",
            "Epoch 25 Loss 0.02756994590163231\n",
            "Epoch 26 Loss 0.027592623606324196\n",
            "Epoch 27 Loss 0.027626633644104004\n",
            "Epoch 28 Loss 0.027670351788401604\n",
            "Epoch 29 Loss 0.02772236056625843\n",
            "Epoch 30 Loss 0.027781371027231216\n",
            "Epoch 31 Loss 0.027846232056617737\n",
            "Epoch 32 Loss 0.0279158316552639\n",
            "Epoch 33 Loss 0.027989136055111885\n",
            "Epoch 34 Loss 0.028065122663974762\n",
            "Epoch 35 Loss 0.028143081814050674\n",
            "Epoch 36 Loss 0.028222601860761642\n",
            "Epoch 37 Loss 0.02830391936004162\n",
            "Epoch 38 Loss 0.02838793396949768\n",
            "Epoch 39 Loss 0.028476478531956673\n",
            "Epoch 40 Loss 0.028571879491209984\n",
            "Epoch 41 Loss 0.028677212074398994\n",
            "Epoch 42 Loss 0.028795914724469185\n",
            "Epoch 43 Loss 0.028931953012943268\n",
            "Epoch 44 Loss 0.02908996120095253\n",
            "Epoch 45 Loss 0.02927452325820923\n",
            "Epoch 46 Loss 0.029489660635590553\n",
            "Epoch 47 Loss 0.029737956821918488\n",
            "Epoch 48 Loss 0.030019575729966164\n",
            "Epoch 49 Loss 0.030331769958138466\n",
            "Epoch 50 Loss 0.030668599531054497\n",
            "Epoch 51 Loss 0.031021513044834137\n",
            "Epoch 52 Loss 0.03138056397438049\n",
            "Epoch 53 Loss 0.03173549100756645\n",
            "Epoch 54 Loss 0.03207660838961601\n",
            "Epoch 55 Loss 0.032395582646131516\n",
            "Epoch 56 Loss 0.03268533945083618\n",
            "Epoch 57 Loss 0.032939985394477844\n",
            "Epoch 58 Loss 0.03315454721450806\n",
            "Epoch 59 Loss 0.033324290066957474\n",
            "Epoch 60 Loss 0.03344393149018288\n",
            "Epoch 61 Loss 0.03350710868835449\n",
            "Epoch 62 Loss 0.03350537270307541\n",
            "Epoch 63 Loss 0.03342783451080322\n",
            "Epoch 64 Loss 0.03326069936156273\n",
            "Epoch 65 Loss 0.0329873189330101\n",
            "Epoch 66 Loss 0.03258945047855377\n",
            "Epoch 67 Loss 0.03204874321818352\n",
            "Epoch 68 Loss 0.031349603086709976\n",
            "Epoch 69 Loss 0.030482258647680283\n",
            "Epoch 70 Loss 0.02944508194923401\n",
            "Epoch 71 Loss 0.02824612893164158\n",
            "Epoch 72 Loss 0.02690253220498562\n",
            "Epoch 73 Loss 0.025438852608203888\n",
            "Epoch 74 Loss 0.02388438954949379\n",
            "Epoch 75 Loss 0.022270483896136284\n",
            "Epoch 76 Loss 0.02062854915857315\n",
            "Epoch 77 Loss 0.01898816041648388\n",
            "Epoch 78 Loss 0.017375733703374863\n",
            "Epoch 79 Loss 0.015814142301678658\n",
            "Epoch 80 Loss 0.014321858063340187\n",
            "Epoch 81 Loss 0.012913347221910954\n",
            "Epoch 82 Loss 0.011598581448197365\n",
            "Epoch 83 Loss 0.010383776389062405\n",
            "Epoch 84 Loss 0.009271562099456787\n",
            "Epoch 85 Loss 0.008261575363576412\n",
            "Epoch 86 Loss 0.007351056206971407\n",
            "Epoch 87 Loss 0.006535244174301624\n",
            "Epoch 88 Loss 0.0058081853203475475\n",
            "Epoch 89 Loss 0.005163073539733887\n",
            "Epoch 90 Loss 0.004592652432620525\n",
            "Epoch 91 Loss 0.00408964091911912\n",
            "Epoch 92 Loss 0.003646973054856062\n",
            "Epoch 93 Loss 0.0032578916288912296\n",
            "Epoch 94 Loss 0.0029161565471440554\n",
            "Epoch 95 Loss 0.002616087207570672\n",
            "Epoch 96 Loss 0.002352573908865452\n",
            "Epoch 97 Loss 0.0021210042759776115\n",
            "Epoch 98 Loss 0.0019173381151631474\n",
            "Epoch 99 Loss 0.001738020684570074\n",
            "\n",
            "Duration: 25 seconds\n"
          ],
          "name": "stdout"
        }
      ]
    },
    {
      "cell_type": "code",
      "metadata": {
        "id": "58vDc4Nx_XVZ",
        "colab_type": "code",
        "colab": {}
      },
      "source": [
        "## Test\n",
        "\n",
        "future = 15\n",
        "\n",
        "\n",
        "preds = train_norm[-window_size:].tolist()\n",
        "\n",
        "model.eval()\n",
        "\n",
        "for i in range(future):\n",
        "  seq = torch.FloatTensor(preds[-window_size:]).to(device)\n",
        "  with torch.no_grad():\n",
        "    model.hidden = (torch.zeros(1,1,model.hidden_size).to(device),\n",
        "                   torch.zeros(1,1,model.hidden_size).to(device))\n",
        "    \n",
        "    preds.append(model(seq).item())\n",
        "\n"
      ],
      "execution_count": 0,
      "outputs": []
    },
    {
      "cell_type": "code",
      "metadata": {
        "id": "9GQ8UjaDLVG9",
        "colab_type": "code",
        "colab": {}
      },
      "source": [
        "### inverse transform data"
      ],
      "execution_count": 0,
      "outputs": []
    },
    {
      "cell_type": "code",
      "metadata": {
        "id": "lA6ZIVoBA9F7",
        "colab_type": "code",
        "colab": {}
      },
      "source": [
        "#dates = np.arange('2019-05-17','2019-06-29',dtype='datetime64[M]').astype('datetime64[D]')\n",
        "predictions = sc.inverse_transform(np.array(preds[-future:]).reshape(-1, 1))"
      ],
      "execution_count": 0,
      "outputs": []
    },
    {
      "cell_type": "code",
      "metadata": {
        "id": "4Lo-pTU3AmDT",
        "colab_type": "code",
        "colab": {}
      },
      "source": [
        ""
      ],
      "execution_count": 0,
      "outputs": []
    },
    {
      "cell_type": "code",
      "metadata": {
        "id": "ktPTdHQPI_Dl",
        "colab_type": "code",
        "outputId": "a6a41137-d8b0-4a7e-c900-f749d2df2236",
        "colab": {
          "base_uri": "https://localhost:8080/",
          "height": 300
        }
      },
      "source": [
        "plt.plot(test_set.values,label='True')\n",
        "plt.plot(predictions,label='Predictions')\n",
        "plt.xlabel(\"Months\")\n",
        "plt.ylabel(\"Passenger Number\");\n",
        "plt.legend()"
      ],
      "execution_count": 23,
      "outputs": [
        {
          "output_type": "execute_result",
          "data": {
            "text/plain": [
              "<matplotlib.legend.Legend at 0x7ff8c6da9198>"
            ]
          },
          "metadata": {
            "tags": []
          },
          "execution_count": 23
        },
        {
          "output_type": "display_data",
          "data": {
            "image/png": "[encoded data removed]",
            "text/plain": [
              "<Figure size 432x288 with 1 Axes>"
            ]
          },
          "metadata": {
            "tags": []
          }
        }
      ]
    },
    {
      "cell_type": "code",
      "metadata": {
        "id": "Aq8ZR6Pbf_t1",
        "colab_type": "code",
        "colab": {}
      },
      "source": [
        "### LOss"
      ],
      "execution_count": 0,
      "outputs": []
    },
    {
      "cell_type": "code",
      "metadata": {
        "id": "9YQoVo8niuXi",
        "colab_type": "code",
        "outputId": "be41b82f-7c5d-433e-ecfb-9a1cd1b2156e",
        "colab": {
          "base_uri": "https://localhost:8080/",
          "height": 295
        }
      },
      "source": [
        "plt.plot(acc_loss)\n",
        "plt.title('Loss per Epoch')\n",
        "plt.xlabel(\"Epochs\")\n",
        "plt.ylabel(\"Loss\");"
      ],
      "execution_count": 25,
      "outputs": [
        {
          "output_type": "display_data",
          "data": {
            "image/png": "[encoded data removed]",
            "text/plain": [
              "<Figure size 432x288 with 1 Axes>"
            ]
          },
          "metadata": {
            "tags": []
          }
        }
      ]
    },
    {
      "cell_type": "code",
      "metadata": {
        "id": "FUMJEuasixsd",
        "colab_type": "code",
        "colab": {}
      },
      "source": [
        ""
      ],
      "execution_count": 0,
      "outputs": []
    },
    {
      "cell_type": "code",
      "metadata": {
        "id": "8JoUOn2UIo2O",
        "colab_type": "code",
        "colab": {}
      },
      "source": [
        ""
      ],
      "execution_count": 0,
      "outputs": []
    }
  ]
}